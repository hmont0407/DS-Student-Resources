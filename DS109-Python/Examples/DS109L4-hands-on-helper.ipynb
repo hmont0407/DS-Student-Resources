{
 "cells": [
  {
   "cell_type": "markdown",
   "id": "be476c9a-d616-4caa-9224-f1fe32af2bb3",
   "metadata": {},
   "source": [
    "# Dictionaries in Python"
   ]
  },
  {
   "cell_type": "code",
   "execution_count": 7,
   "id": "ec046a4f-7fbc-4667-b12c-e2468e731a6c",
   "metadata": {},
   "outputs": [],
   "source": [
    "# Create an empty dictionary\n",
    "item_1 = {}"
   ]
  },
  {
   "cell_type": "code",
   "execution_count": 8,
   "id": "5fa48509-c656-473e-a65f-603b7eb27e96",
   "metadata": {},
   "outputs": [],
   "source": [
    "# Add key, value pairs to dictionary\n",
    "item_1['Type'] = 'Magic Potion'\n",
    "item_1['Points'] = '45'"
   ]
  },
  {
   "cell_type": "code",
   "execution_count": 9,
   "id": "b0fbbab0-a16b-4f94-ad0b-7128eefc97a7",
   "metadata": {},
   "outputs": [
    {
     "data": {
      "text/plain": [
       "{'Type': 'Magic Potion', 'Points': '45'}"
      ]
     },
     "execution_count": 9,
     "metadata": {},
     "output_type": "execute_result"
    }
   ],
   "source": [
    "# See dictionary items\n",
    "item_1"
   ]
  },
  {
   "cell_type": "code",
   "execution_count": 11,
   "id": "fca2b965-1281-4022-a34b-5befefe654fd",
   "metadata": {},
   "outputs": [
    {
     "name": "stdout",
     "output_type": "stream",
     "text": [
      "Type: Magic Potion\n",
      "Points: 45\n"
     ]
    }
   ],
   "source": [
    "# Iterate over key, value pairs in dictionary\n",
    "for k, v in item_1.items():\n",
    "    print(k + ': ' + v)"
   ]
  },
  {
   "cell_type": "code",
   "execution_count": 14,
   "id": "594f65ea-f922-46ea-9c89-905de92dfd6e",
   "metadata": {},
   "outputs": [],
   "source": [
    "# Creating a bigger dictonary\n",
    "my_dict = {\n",
    "    'Name': 'Potion',\n",
    "    'Points': '45',\n",
    "    'Uses': 'heal, restore mana'\n",
    "}"
   ]
  },
  {
   "cell_type": "code",
   "execution_count": 15,
   "id": "177758e4-7b08-4a71-bd00-b0c221235677",
   "metadata": {},
   "outputs": [
    {
     "name": "stdout",
     "output_type": "stream",
     "text": [
      "Name: Potion\n",
      "Points: 45\n",
      "Uses: heal, restore mana\n"
     ]
    }
   ],
   "source": [
    "# Iterate over key, value pairs in dictionary\n",
    "for k, v in my_dict.items():\n",
    "    print(k + ': ' + v)"
   ]
  },
  {
   "cell_type": "code",
   "execution_count": 16,
   "id": "0a53b01e-52fa-48ff-a8b7-bbd5110566a8",
   "metadata": {},
   "outputs": [
    {
     "data": {
      "text/plain": [
       "'heal, restore mana'"
      ]
     },
     "execution_count": 16,
     "metadata": {},
     "output_type": "execute_result"
    }
   ],
   "source": [
    "# Get value with `get` keyword \n",
    "my_dict.get('Uses')"
   ]
  },
  {
   "cell_type": "code",
   "execution_count": null,
   "id": "ceacadf6-2c18-4b05-aa55-03c343dbb273",
   "metadata": {},
   "outputs": [],
   "source": []
  }
 ],
 "metadata": {
  "kernelspec": {
   "display_name": "Python 3 (ipykernel)",
   "language": "python",
   "name": "python3"
  },
  "language_info": {
   "codemirror_mode": {
    "name": "ipython",
    "version": 3
   },
   "file_extension": ".py",
   "mimetype": "text/x-python",
   "name": "python",
   "nbconvert_exporter": "python",
   "pygments_lexer": "ipython3",
   "version": "3.9.7"
  }
 },
 "nbformat": 4,
 "nbformat_minor": 5
}
