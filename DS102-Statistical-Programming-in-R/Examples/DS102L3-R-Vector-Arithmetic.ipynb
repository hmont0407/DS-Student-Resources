{
 "cells": [
  {
   "cell_type": "markdown",
   "metadata": {},
   "source": [
    "### DSO102 L3 Example of Vector Arithmetic in R: "
   ]
  },
  {
   "cell_type": "code",
   "execution_count": 1,
   "metadata": {},
   "outputs": [],
   "source": [
    "### Imagine a small school has 10 teachers and each number in the vector will represent how many students are in their class\n",
    "### Below the vector name created is \"Students\" and the \"c\" in front of the () parenthesis indicates a vector"
   ]
  },
  {
   "cell_type": "code",
   "execution_count": 2,
   "metadata": {},
   "outputs": [],
   "source": [
    "Students <- c(22, 33, 25, 34, 20, 36, 29, 30, 32, 26)"
   ]
  },
  {
   "cell_type": "code",
   "execution_count": 3,
   "metadata": {},
   "outputs": [],
   "source": [
    "### Each teacher is about to receive to more additional students\n",
    "### Adding 2 to the additional number of students:"
   ]
  },
  {
   "cell_type": "code",
   "execution_count": 4,
   "metadata": {},
   "outputs": [],
   "source": [
    "StudentsAddTwo <- Students + 2"
   ]
  },
  {
   "cell_type": "code",
   "execution_count": 5,
   "metadata": {},
   "outputs": [
    {
     "data": {
      "text/html": [
       "<style>\n",
       ".list-inline {list-style: none; margin:0; padding: 0}\n",
       ".list-inline>li {display: inline-block}\n",
       ".list-inline>li:not(:last-child)::after {content: \"\\00b7\"; padding: 0 .5ex}\n",
       "</style>\n",
       "<ol class=list-inline><li>24</li><li>35</li><li>27</li><li>36</li><li>22</li><li>38</li><li>31</li><li>32</li><li>34</li><li>28</li></ol>\n"
      ],
      "text/latex": [
       "\\begin{enumerate*}\n",
       "\\item 24\n",
       "\\item 35\n",
       "\\item 27\n",
       "\\item 36\n",
       "\\item 22\n",
       "\\item 38\n",
       "\\item 31\n",
       "\\item 32\n",
       "\\item 34\n",
       "\\item 28\n",
       "\\end{enumerate*}\n"
      ],
      "text/markdown": [
       "1. 24\n",
       "2. 35\n",
       "3. 27\n",
       "4. 36\n",
       "5. 22\n",
       "6. 38\n",
       "7. 31\n",
       "8. 32\n",
       "9. 34\n",
       "10. 28\n",
       "\n",
       "\n"
      ],
      "text/plain": [
       " [1] 24 35 27 36 22 38 31 32 34 28"
      ]
     },
     "metadata": {},
     "output_type": "display_data"
    }
   ],
   "source": [
    "StudentsAddTwo"
   ]
  },
  {
   "cell_type": "code",
   "execution_count": 6,
   "metadata": {},
   "outputs": [],
   "source": [
    "### See the output in the new vector called \"StudentsAddTwo\" is now showing each number from the original vector \"Students\" plus 2"
   ]
  },
  {
   "cell_type": "code",
   "execution_count": 7,
   "metadata": {},
   "outputs": [],
   "source": [
    "### Now the school has decided to merge with another location so the number of students will double\n",
    "### Multiply the current student count by 2:"
   ]
  },
  {
   "cell_type": "code",
   "execution_count": 8,
   "metadata": {},
   "outputs": [
    {
     "data": {
      "text/html": [
       "<style>\n",
       ".list-inline {list-style: none; margin:0; padding: 0}\n",
       ".list-inline>li {display: inline-block}\n",
       ".list-inline>li:not(:last-child)::after {content: \"\\00b7\"; padding: 0 .5ex}\n",
       "</style>\n",
       "<ol class=list-inline><li>48</li><li>70</li><li>54</li><li>72</li><li>44</li><li>76</li><li>62</li><li>64</li><li>68</li><li>56</li></ol>\n"
      ],
      "text/latex": [
       "\\begin{enumerate*}\n",
       "\\item 48\n",
       "\\item 70\n",
       "\\item 54\n",
       "\\item 72\n",
       "\\item 44\n",
       "\\item 76\n",
       "\\item 62\n",
       "\\item 64\n",
       "\\item 68\n",
       "\\item 56\n",
       "\\end{enumerate*}\n"
      ],
      "text/markdown": [
       "1. 48\n",
       "2. 70\n",
       "3. 54\n",
       "4. 72\n",
       "5. 44\n",
       "6. 76\n",
       "7. 62\n",
       "8. 64\n",
       "9. 68\n",
       "10. 56\n",
       "\n",
       "\n"
      ],
      "text/plain": [
       " [1] 48 70 54 72 44 76 62 64 68 56"
      ]
     },
     "metadata": {},
     "output_type": "display_data"
    }
   ],
   "source": [
    "StudentsDouble <- StudentsAddTwo * 2\n",
    "StudentsDouble"
   ]
  },
  {
   "cell_type": "code",
   "execution_count": 9,
   "metadata": {},
   "outputs": [],
   "source": [
    "### See how each number in the vector is now mulitplied by 2 by creating a new vector name \"StudentsDouble\" and multiplying the \n",
    "### vector \"StudentsAddTwo\" using the asterisk * 2"
   ]
  },
  {
   "cell_type": "code",
   "execution_count": 10,
   "metadata": {},
   "outputs": [],
   "source": [
    "### The schools combined now have 24 teachers instead of ten so the number of students will divide by 4 so \n",
    "### the students will be more evenly distributed between the classes and reduce the number of students per class"
   ]
  },
  {
   "cell_type": "code",
   "execution_count": 11,
   "metadata": {},
   "outputs": [
    {
     "data": {
      "text/html": [
       "<style>\n",
       ".list-inline {list-style: none; margin:0; padding: 0}\n",
       ".list-inline>li {display: inline-block}\n",
       ".list-inline>li:not(:last-child)::after {content: \"\\00b7\"; padding: 0 .5ex}\n",
       "</style>\n",
       "<ol class=list-inline><li>12</li><li>17.5</li><li>13.5</li><li>18</li><li>11</li><li>19</li><li>15.5</li><li>16</li><li>17</li><li>14</li></ol>\n"
      ],
      "text/latex": [
       "\\begin{enumerate*}\n",
       "\\item 12\n",
       "\\item 17.5\n",
       "\\item 13.5\n",
       "\\item 18\n",
       "\\item 11\n",
       "\\item 19\n",
       "\\item 15.5\n",
       "\\item 16\n",
       "\\item 17\n",
       "\\item 14\n",
       "\\end{enumerate*}\n"
      ],
      "text/markdown": [
       "1. 12\n",
       "2. 17.5\n",
       "3. 13.5\n",
       "4. 18\n",
       "5. 11\n",
       "6. 19\n",
       "7. 15.5\n",
       "8. 16\n",
       "9. 17\n",
       "10. 14\n",
       "\n",
       "\n"
      ],
      "text/plain": [
       " [1] 12.0 17.5 13.5 18.0 11.0 19.0 15.5 16.0 17.0 14.0"
      ]
     },
     "metadata": {},
     "output_type": "display_data"
    }
   ],
   "source": [
    "DividedForClasses <- StudentsDouble / 4\n",
    "DividedForClasses"
   ]
  },
  {
   "cell_type": "code",
   "execution_count": 12,
   "metadata": {},
   "outputs": [],
   "source": [
    "### This divides each number in the vector \"StudentsDouble\" by 4. Clearly, we can't half half of a student, but you can see\n",
    "### how you can use vectors for arithmetic operations:)"
   ]
  },
  {
   "cell_type": "code",
   "execution_count": 13,
   "metadata": {},
   "outputs": [],
   "source": [
    "### One more fun thing! Watch two vectors of the same length be added together:\n",
    "### Add the amount of StudentsAddTwo plus StudentsDouble:"
   ]
  },
  {
   "cell_type": "code",
   "execution_count": 14,
   "metadata": {},
   "outputs": [
    {
     "data": {
      "text/html": [
       "<style>\n",
       ".list-inline {list-style: none; margin:0; padding: 0}\n",
       ".list-inline>li {display: inline-block}\n",
       ".list-inline>li:not(:last-child)::after {content: \"\\00b7\"; padding: 0 .5ex}\n",
       "</style>\n",
       "<ol class=list-inline><li>72</li><li>105</li><li>81</li><li>108</li><li>66</li><li>114</li><li>93</li><li>96</li><li>102</li><li>84</li></ol>\n"
      ],
      "text/latex": [
       "\\begin{enumerate*}\n",
       "\\item 72\n",
       "\\item 105\n",
       "\\item 81\n",
       "\\item 108\n",
       "\\item 66\n",
       "\\item 114\n",
       "\\item 93\n",
       "\\item 96\n",
       "\\item 102\n",
       "\\item 84\n",
       "\\end{enumerate*}\n"
      ],
      "text/markdown": [
       "1. 72\n",
       "2. 105\n",
       "3. 81\n",
       "4. 108\n",
       "5. 66\n",
       "6. 114\n",
       "7. 93\n",
       "8. 96\n",
       "9. 102\n",
       "10. 84\n",
       "\n",
       "\n"
      ],
      "text/plain": [
       " [1]  72 105  81 108  66 114  93  96 102  84"
      ]
     },
     "metadata": {},
     "output_type": "display_data"
    }
   ],
   "source": [
    "AddingTwoVectors <- StudentsAddTwo + StudentsDouble\n",
    "AddingTwoVectors"
   ]
  },
  {
   "cell_type": "code",
   "execution_count": 15,
   "metadata": {},
   "outputs": [],
   "source": [
    "### See how that added both vectors together creating a new vector \"AddingTwoVectors\"? cool right? lol hope this helps and have fun exploring \n",
    "### math with vectors in R, from Mia :)\n",
    "### adding vectors idea from https://www.c-sharpcorner.com/article/operations-on-vector-in-r-with-example/"
   ]
  },
  {
   "cell_type": "code",
   "execution_count": null,
   "metadata": {},
   "outputs": [],
   "source": []
  },
  {
   "cell_type": "code",
   "execution_count": null,
   "metadata": {},
   "outputs": [],
   "source": []
  }
 ],
 "metadata": {
  "kernelspec": {
   "display_name": "R",
   "language": "R",
   "name": "ir"
  },
  "language_info": {
   "codemirror_mode": "r",
   "file_extension": ".r",
   "mimetype": "text/x-r-source",
   "name": "R",
   "pygments_lexer": "r",
   "version": "4.1.1"
  }
 },
 "nbformat": 4,
 "nbformat_minor": 4
}
